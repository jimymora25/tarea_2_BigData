{
 "cells": [
  {
   "cell_type": "code",
   "execution_count": 1,
   "metadata": {},
   "outputs": [
    {
     "name": "stdout",
     "output_type": "stream",
     "text": [
      "Datos erróneos generados correctamente.\n"
     ]
    }
   ],
   "source": [
    "import pandas as pd\n",
    "import random\n",
    "import numpy as np\n",
    "\n",
    "# Generar datos básicos simulados\n",
    "data = {\n",
    "    \"id\": [f\"id_{i}\" for i in range(10)],  # Identificadores únicos\n",
    "    \"name\": [f\"Brewery_{i}\" for i in range(10)],  # Nombres ficticios\n",
    "    \"brewery_type\": random.choices([\"micro\", \"nano\", \"regional\", None], k=10),  # Tipos de cervecería\n",
    "    \"address_1\": [f\"Address_{i}\" for i in range(10)],  # Direcciones simuladas\n",
    "    \"city\": [random.choice([\"CityA\", \"CityB\", None]) for _ in range(10)],  # Ciudades con algunos valores nulos\n",
    "    \"state_province\": [random.choice([\"StateA\", \"StateB\", \"INVALID\", None]) for _ in range(10)],  # Estados inconsistentes\n",
    "    \"postal_code\": [random.choice([\"12345\", \"ABCDE\", None]) for _ in range(10)],  # Códigos postales incorrectos\n",
    "    \"country\": [\"US\"] * 10,  # País constante\n",
    "    \"longitude\": [random.choice([round(random.uniform(-180, 180), 6), \"ERROR\", None]) for _ in range(10)],  # Longitudes incorrectas\n",
    "    \"latitude\": [random.choice([round(random.uniform(-90, 90), 6), \"not_a_number\", None]) for _ in range(10)],  # Latitudes erróneas\n",
    "    \"phone\": [random.choice([\"555-1234\", \"INVALID\", None, \"999999999999\"]) for _ in range(10)],  # Teléfonos no válidos\n",
    "    \"website_url\": [f\"http://example{i}.com\" if random.random() > 0.3 else None for i in range(10)],  # URLs con algunos valores nulos\n",
    "    \"state\": [random.choice([\"CA\", \"California\", None, \"INVALID\"]) for _ in range(10)],  # Estados inconsistentes\n",
    "    \"street\": [f\"Street_{i}\" for i in range(10)]  # Calles ficticias\n",
    "}\n",
    "\n",
    "# Crear el DataFrame\n",
    "df_erroneous = pd.DataFrame(data)\n",
    "\n",
    "# Introducir duplicados (agregar 2 duplicados al azar)\n",
    "duplicates = df_erroneous.sample(2, random_state=42)\n",
    "df_erroneous = pd.concat([df_erroneous, duplicates], ignore_index=True)\n",
    "\n",
    "# Guardar el dataset erróneo\n",
    "df_erroneous.to_csv(\"breweries_data_erroneous.csv\", index=False)\n",
    "\n",
    "print(\"Datos erróneos generados correctamente.\")\n"
   ]
  }
 ],
 "metadata": {
  "kernelspec": {
   "display_name": "Python 3",
   "language": "python",
   "name": "python3"
  },
  "language_info": {
   "codemirror_mode": {
    "name": "ipython",
    "version": 3
   },
   "file_extension": ".py",
   "mimetype": "text/x-python",
   "name": "python",
   "nbconvert_exporter": "python",
   "pygments_lexer": "ipython3",
   "version": "3.13.2"
  }
 },
 "nbformat": 4,
 "nbformat_minor": 2
}
